{
  "nbformat": 4,
  "nbformat_minor": 0,
  "metadata": {
    "colab": {
      "provenance": [],
      "gpuType": "T4"
    },
    "kernelspec": {
      "name": "python3",
      "display_name": "Python 3"
    },
    "language_info": {
      "name": "python"
    },
    "accelerator": "GPU"
  },
  "cells": [
    {
      "cell_type": "code",
      "execution_count": null,
      "metadata": {
        "id": "x8mH2TLU0NAf",
        "colab": {
          "base_uri": "https://localhost:8080/"
        },
        "outputId": "e1c1c447-9af3-4b46-d45f-b9dbd21e70d9"
      },
      "outputs": [
        {
          "output_type": "stream",
          "name": "stdout",
          "text": [
            "Mounted at /content/drive\n"
          ]
        }
      ],
      "source": [
        "from google.colab import drive\n",
        "drive.mount('/content/drive')"
      ]
    },
    {
      "cell_type": "code",
      "source": [
        "%cd /content/drive/MyDrive/DD2360/Assignment4/question1"
      ],
      "metadata": {
        "id": "fMS4JnJO0S5A",
        "colab": {
          "base_uri": "https://localhost:8080/"
        },
        "outputId": "bbcb0f40-b598-448d-a971-12f138510d2f"
      },
      "execution_count": null,
      "outputs": [
        {
          "output_type": "stream",
          "name": "stdout",
          "text": [
            "/content/drive/MyDrive/DD2360/Assignment4/question1\n"
          ]
        }
      ]
    },
    {
      "cell_type": "code",
      "source": [
        "%%writefile vectorAdd.cu\n",
        "#include <stdio.h>\n",
        "#include <stdlib.h>\n",
        "#include <sys/time.h>\n",
        "\n",
        "#define DataType double\n",
        "\n",
        "// Vector addition kernel\n",
        "__global__ void vecAdd(DataType *in1, DataType *in2, DataType *out, int len) {\n",
        "    int index = blockIdx.x * blockDim.x + threadIdx.x;\n",
        "    if (index < len) {\n",
        "        out[index] = in1[index] + in2[index];\n",
        "    }\n",
        "}\n",
        "\n",
        "double CPUtimer() {\n",
        "    struct timeval ti;\n",
        "    gettimeofday(&ti, NULL);\n",
        "    return ((double)ti.tv_sec + (double)ti.tv_usec * 1e-6);\n",
        "}\n",
        "\n",
        "int main(int argc, char **argv) {\n",
        "\n",
        "    int inputLength;\n",
        "    DataType *hostInput1;\n",
        "    DataType *hostInput2;\n",
        "    DataType *hostOutput;\n",
        "    DataType *resultRef;\n",
        "    DataType *deviceInput1;\n",
        "    DataType *deviceInput2;\n",
        "    DataType *deviceOutput;\n",
        "    bool flag = true;\n",
        "    double start, end, duration;\n",
        "\n",
        "    if (argc != 3) {\n",
        "        printf(\"Usage: %s <inputLength> <S_seg>\\n\", argv[0]);\n",
        "        exit(EXIT_FAILURE);\n",
        "    }\n",
        "\n",
        "    inputLength = atoi(argv[1]);\n",
        "    int S_seg = atoi(argv[2]);\n",
        "    const int numSegments = ceil(inputLength / S_seg);\n",
        "\n",
        "    printf(\"The input length is %d\\n\", inputLength);\n",
        "    printf(\"The size of segments is %d\\n\", S_seg);\n",
        "\n",
        "    hostInput1 = (DataType *)malloc(inputLength * sizeof(DataType));\n",
        "    hostInput2 = (DataType *)malloc(inputLength * sizeof(DataType));\n",
        "    hostOutput = (DataType *)malloc(inputLength * sizeof(DataType));\n",
        "    resultRef = (DataType *)malloc(inputLength * sizeof(DataType));\n",
        "\n",
        "    for (int i = 0; i < inputLength; ++i) {\n",
        "        hostInput1[i] = (DataType)rand() / RAND_MAX;\n",
        "        hostInput2[i] = (DataType)rand() / RAND_MAX;\n",
        "        resultRef[i] = hostInput1[i] + hostInput2[i];\n",
        "    }\n",
        "\n",
        "    cudaMalloc((void **)&deviceInput1, inputLength * sizeof(DataType));\n",
        "    cudaMalloc((void **)&deviceInput2, inputLength * sizeof(DataType));\n",
        "    cudaMalloc((void **)&deviceOutput, inputLength * sizeof(DataType));\n",
        "\n",
        "    // Number of streams\n",
        "    cudaStream_t streams[numSegments];\n",
        "\n",
        "    // Create streams\n",
        "    for (int i = 0; i < numSegments; ++i) {\n",
        "        cudaStreamCreate(&streams[i]);\n",
        "    }\n",
        "\n",
        "    start = CPUtimer();\n",
        "\n",
        "\n",
        "    dim3 dimGrid(ceil(S_seg / 256));\n",
        "    dim3 dimBlock(256);\n",
        "\n",
        "\n",
        "    for(int i = 0; i < numSegments; i++) {\n",
        "        int offset = i * S_seg;\n",
        "        cudaMemcpyAsync(deviceInput1 + offset, hostInput1 + offset, S_seg * sizeof(DataType), cudaMemcpyHostToDevice, streams[i]);\n",
        "        cudaMemcpyAsync(deviceInput2 + offset, hostInput2 + offset, S_seg * sizeof(DataType), cudaMemcpyHostToDevice, streams[i]);\n",
        "        vecAdd<<<dimGrid, dimBlock, 0, streams[i]>>>(deviceInput1 + offset, deviceInput2 + offset, deviceOutput + offset, S_seg);\n",
        "        cudaMemcpyAsync(hostOutput + offset, deviceOutput + offset, S_seg * sizeof(DataType), cudaMemcpyDeviceToHost, streams[i]);\n",
        "    }\n",
        "\n",
        "    cudaDeviceSynchronize();\n",
        "\n",
        "\n",
        "    end = CPUtimer();\n",
        "    duration = end - start;\n",
        "    printf( \"Total time : %f.\\n\", duration);\n",
        "\n",
        "\n",
        "    // Destroy streams\n",
        "    for (int i = 0; i < numSegments; ++i) {\n",
        "        cudaStreamDestroy(streams[i]);\n",
        "    }\n",
        "\n",
        "    // Free GPU memory\n",
        "    cudaFree(deviceInput1);\n",
        "    cudaFree(deviceInput2);\n",
        "    cudaFree(deviceOutput);\n",
        "\n",
        "    // Free CPU memory\n",
        "    free(hostInput1);\n",
        "    free(hostInput2);\n",
        "    free(hostOutput);\n",
        "    free(resultRef);\n",
        "\n",
        "        // Compare the output with the reference\n",
        "    for (int i = 0; i < numSegments; ++i) {\n",
        "        if (fabs(hostOutput[i] - resultRef[i]) > 1e-5) {\n",
        "            printf(\"Mismatch at index %d: Host %f, GPU %f\\n\", i, resultRef[i], hostOutput[i]);\n",
        "            flag = false;\n",
        "            break;\n",
        "        }\n",
        "    }\n",
        "\n",
        "    if (flag == true) {\n",
        "        printf(\"Two vectors are the same\\n\");\n",
        "    }\n",
        "\n",
        "\n",
        "\n",
        "    return 0;\n",
        "}\n"
      ],
      "metadata": {
        "id": "A9k0IXBh0ghX",
        "colab": {
          "base_uri": "https://localhost:8080/"
        },
        "outputId": "56f99151-698a-40ac-acfd-73f3abb88b35"
      },
      "execution_count": null,
      "outputs": [
        {
          "output_type": "stream",
          "name": "stdout",
          "text": [
            "Overwriting vectorAdd.cu\n"
          ]
        }
      ]
    },
    {
      "cell_type": "code",
      "source": [
        "!nvcc vectorAdd.cu\n",
        "!ls"
      ],
      "metadata": {
        "colab": {
          "base_uri": "https://localhost:8080/"
        },
        "id": "JXo1cubIOLm0",
        "outputId": "0a0c9483-c536-4584-9fdd-5ba821a7b555"
      },
      "execution_count": null,
      "outputs": [
        {
          "output_type": "stream",
          "name": "stdout",
          "text": [
            "a.out\t\t       profile_mycode.nvvp  test     trace_output.nvvp\n",
            "profile_mycode.nvprof  profile_vecadd.nvvp  test.cu  vectorAdd.cu\n"
          ]
        }
      ]
    },
    {
      "cell_type": "code",
      "source": [
        "!./a.out 1024 256"
      ],
      "metadata": {
        "colab": {
          "base_uri": "https://localhost:8080/"
        },
        "id": "WSJZEmyQOMIs",
        "outputId": "bd1d4d6e-1009-40e1-a2c0-cce4cfa67629"
      },
      "execution_count": null,
      "outputs": [
        {
          "output_type": "stream",
          "name": "stdout",
          "text": [
            "The input length is 1024\n",
            "The size of segments is 256\n",
            "Total time : 0.000734.\n",
            "Two vectors are the same\n"
          ]
        }
      ]
    },
    {
      "cell_type": "code",
      "source": [
        "!./a.out 2048 512"
      ],
      "metadata": {
        "colab": {
          "base_uri": "https://localhost:8080/"
        },
        "id": "cCfnxc71yJsw",
        "outputId": "1e96ca8c-048f-4b2e-db56-068d5cf19480"
      },
      "execution_count": null,
      "outputs": [
        {
          "output_type": "stream",
          "name": "stdout",
          "text": [
            "The input length is 2048\n",
            "The size of segments is 512\n",
            "Total time : 0.000761.\n",
            "Two vectors are the same\n"
          ]
        }
      ]
    },
    {
      "cell_type": "code",
      "source": [
        "!./a.out 4096 1024"
      ],
      "metadata": {
        "colab": {
          "base_uri": "https://localhost:8080/"
        },
        "id": "yfBzB-VLyxTf",
        "outputId": "3cc57a47-308c-4f68-b40d-07fba02e4456"
      },
      "execution_count": null,
      "outputs": [
        {
          "output_type": "stream",
          "name": "stdout",
          "text": [
            "The input length is 4096\n",
            "The size of segments is 1024\n",
            "Total time : 0.000858.\n",
            "Two vectors are the same\n"
          ]
        }
      ]
    },
    {
      "cell_type": "code",
      "source": [
        "!/usr/local/cuda-12/bin/nvprof --output-profile profile_vecadd.nvvp -f ./a.out 262144 1024"
      ],
      "metadata": {
        "colab": {
          "base_uri": "https://localhost:8080/"
        },
        "id": "wFfnMW8azyq9",
        "outputId": "845ad836-3072-47e2-c099-62c7d83ebfdd"
      },
      "execution_count": null,
      "outputs": [
        {
          "output_type": "stream",
          "name": "stdout",
          "text": [
            "The input length is 262144\n",
            "The size of segments is 1024\n",
            "==8224== NVPROF is profiling process 8224, command: ./a.out 262144 1024\n",
            "Total time : 0.010894.\n",
            "==8224== Warning: Some profiling data are not recorded.\n",
            "==8224== Generated result file: /content/drive/MyDrive/DD2360/Assignment4/question1/profile_vecadd.nvvp\n",
            "======== Error: Application received signal 139\n"
          ]
        }
      ]
    },
    {
      "cell_type": "code",
      "source": [
        "!ncu --set default --metrics sm__warps_active.avg.pct_of_peak_sustained_active ./a.out 1024 256"
      ],
      "metadata": {
        "colab": {
          "base_uri": "https://localhost:8080/"
        },
        "id": "0imbmnExYdxW",
        "outputId": "8dea0db7-36e3-43c8-a3f7-c0e2b5abb73b"
      },
      "execution_count": null,
      "outputs": [
        {
          "output_type": "stream",
          "name": "stdout",
          "text": [
            "The input length is 1024\n",
            "The size of segments is 256\n",
            "==PROF== Connected to process 2287 (/content/drive/MyDrive/DD2360/Assignment4/question1/a.out)\n",
            "==PROF== Profiling \"vecAdd\" - 0: 0%....50%....100% - 1 pass\n",
            "==PROF== Profiling \"vecAdd\" - 1: 0%....50%....100% - 1 pass\n",
            "==PROF== Profiling \"vecAdd\" - 2: 0%....50%....100% - 1 pass\n",
            "==PROF== Profiling \"vecAdd\" - 3: 0%....50%....100% - 1 pass\n",
            "Total time : 0.383361.\n",
            "Two vectors are the same\n",
            "==ERROR== The application returned an error code (11).\n",
            "==WARNING== Found outstanding GPU clock reset, trying to revert...Success.\n",
            "[2287] a.out@127.0.0.1\n",
            "  vecAdd(double *, double *, double *, int) (1, 1, 1)x(256, 1, 1), Context 1, Stream 13, Device 0, CC 7.5\n",
            "    Section: Command line profiler metrics\n",
            "    ------------------------------------------------- ----------- ------------\n",
            "    Metric Name                                       Metric Unit Metric Value\n",
            "    ------------------------------------------------- ----------- ------------\n",
            "    sm__warps_active.avg.pct_of_peak_sustained_active           %        23.95\n",
            "    ------------------------------------------------- ----------- ------------\n",
            "\n",
            "  vecAdd(double *, double *, double *, int) (1, 1, 1)x(256, 1, 1), Context 1, Stream 14, Device 0, CC 7.5\n",
            "    Section: Command line profiler metrics\n",
            "    ------------------------------------------------- ----------- ------------\n",
            "    Metric Name                                       Metric Unit Metric Value\n",
            "    ------------------------------------------------- ----------- ------------\n",
            "    sm__warps_active.avg.pct_of_peak_sustained_active           %        23.48\n",
            "    ------------------------------------------------- ----------- ------------\n",
            "\n",
            "  vecAdd(double *, double *, double *, int) (1, 1, 1)x(256, 1, 1), Context 1, Stream 15, Device 0, CC 7.5\n",
            "    Section: Command line profiler metrics\n",
            "    ------------------------------------------------- ----------- ------------\n",
            "    Metric Name                                       Metric Unit Metric Value\n",
            "    ------------------------------------------------- ----------- ------------\n",
            "    sm__warps_active.avg.pct_of_peak_sustained_active           %        23.52\n",
            "    ------------------------------------------------- ----------- ------------\n",
            "\n",
            "  vecAdd(double *, double *, double *, int) (1, 1, 1)x(256, 1, 1), Context 1, Stream 16, Device 0, CC 7.5\n",
            "    Section: Command line profiler metrics\n",
            "    ------------------------------------------------- ----------- ------------\n",
            "    Metric Name                                       Metric Unit Metric Value\n",
            "    ------------------------------------------------- ----------- ------------\n",
            "    sm__warps_active.avg.pct_of_peak_sustained_active           %        23.47\n",
            "    ------------------------------------------------- ----------- ------------\n",
            "\n"
          ]
        }
      ]
    },
    {
      "cell_type": "code",
      "source": [
        "!./a.out 262144 256"
      ],
      "metadata": {
        "colab": {
          "base_uri": "https://localhost:8080/"
        },
        "id": "R0F6ZCLgZ5uL",
        "outputId": "6000ef04-372b-443d-9ee3-abac5d2daee4"
      },
      "execution_count": null,
      "outputs": [
        {
          "output_type": "stream",
          "name": "stdout",
          "text": [
            "The input length is 262144\n",
            "The size of segments is 256\n",
            "Total time : 0.030408.\n",
            "Two vectors are the same\n"
          ]
        }
      ]
    },
    {
      "cell_type": "code",
      "source": [
        "!./a.out 262144 512"
      ],
      "metadata": {
        "colab": {
          "base_uri": "https://localhost:8080/"
        },
        "id": "8iqinxyLbYGK",
        "outputId": "f9205ffd-67bb-44aa-9847-b455a74a41ec"
      },
      "execution_count": null,
      "outputs": [
        {
          "output_type": "stream",
          "name": "stdout",
          "text": [
            "The input length is 262144\n",
            "The size of segments is 512\n",
            "Total time : 0.017020.\n",
            "Two vectors are the same\n"
          ]
        }
      ]
    },
    {
      "cell_type": "code",
      "source": [
        "!./a.out 262144 1024"
      ],
      "metadata": {
        "colab": {
          "base_uri": "https://localhost:8080/"
        },
        "id": "7vuW0kmCba7c",
        "outputId": "63d79266-3464-414d-e7cb-94e0c060b9cf"
      },
      "execution_count": null,
      "outputs": [
        {
          "output_type": "stream",
          "name": "stdout",
          "text": [
            "The input length is 262144\n",
            "The size of segments is 1024\n",
            "Total time : 0.010310.\n",
            "Two vectors are the same\n"
          ]
        }
      ]
    },
    {
      "cell_type": "code",
      "source": [
        "!./a.out 262144 2048"
      ],
      "metadata": {
        "colab": {
          "base_uri": "https://localhost:8080/"
        },
        "id": "jgYPKzL3bdLi",
        "outputId": "a173e2dd-3764-4249-c51e-9cd73d3b65b6"
      },
      "execution_count": null,
      "outputs": [
        {
          "output_type": "stream",
          "name": "stdout",
          "text": [
            "The input length is 262144\n",
            "The size of segments is 2048\n",
            "Total time : 0.007166.\n",
            "Two vectors are the same\n"
          ]
        }
      ]
    },
    {
      "cell_type": "code",
      "source": [
        "!./a.out 262144 4096"
      ],
      "metadata": {
        "colab": {
          "base_uri": "https://localhost:8080/"
        },
        "id": "m9JIyCmuce0x",
        "outputId": "c0e0f893-01fe-4dd8-ce4a-cf7f6bf02fc0"
      },
      "execution_count": null,
      "outputs": [
        {
          "output_type": "stream",
          "name": "stdout",
          "text": [
            "The input length is 262144\n",
            "The size of segments is 4096\n",
            "Total time : 0.005836.\n",
            "Two vectors are the same\n"
          ]
        }
      ]
    },
    {
      "cell_type": "code",
      "source": [
        "!./a.out 262144 8192"
      ],
      "metadata": {
        "colab": {
          "base_uri": "https://localhost:8080/"
        },
        "id": "t8CdjcW0ko1F",
        "outputId": "8d7448c2-b21f-4dd1-f78d-18fe78d17bb2"
      },
      "execution_count": null,
      "outputs": [
        {
          "output_type": "stream",
          "name": "stdout",
          "text": [
            "The input length is 262144\n",
            "The size of segments is 8192\n",
            "Total time : 0.004782.\n",
            "Two vectors are the same\n"
          ]
        }
      ]
    },
    {
      "cell_type": "code",
      "source": [
        "!./a.out 262144 16384"
      ],
      "metadata": {
        "colab": {
          "base_uri": "https://localhost:8080/"
        },
        "id": "tsXyDHPoktWb",
        "outputId": "34a1481a-946a-4e9d-99d5-67a9f82d13b4"
      },
      "execution_count": null,
      "outputs": [
        {
          "output_type": "stream",
          "name": "stdout",
          "text": [
            "The input length is 262144\n",
            "The size of segments is 16384\n",
            "Total time : 0.004558.\n",
            "Two vectors are the same\n"
          ]
        }
      ]
    },
    {
      "cell_type": "code",
      "source": [
        "!./a.out 262144 32768"
      ],
      "metadata": {
        "colab": {
          "base_uri": "https://localhost:8080/"
        },
        "id": "oA2J4PknkxZc",
        "outputId": "75371ec2-128d-4a92-ff21-af37eb83df23"
      },
      "execution_count": null,
      "outputs": [
        {
          "output_type": "stream",
          "name": "stdout",
          "text": [
            "The input length is 262144\n",
            "The size of segments is 32768\n",
            "Total time : 0.003666.\n",
            "Two vectors are the same\n"
          ]
        }
      ]
    },
    {
      "cell_type": "code",
      "source": [
        "!./a.out 262144 65536"
      ],
      "metadata": {
        "colab": {
          "base_uri": "https://localhost:8080/"
        },
        "id": "vE7gZhFPk0mx",
        "outputId": "198cf1b8-528b-4e40-c42d-17772fffcdab"
      },
      "execution_count": null,
      "outputs": [
        {
          "output_type": "stream",
          "name": "stdout",
          "text": [
            "The input length is 262144\n",
            "The size of segments is 65536\n",
            "Total time : 0.003715.\n",
            "Two vectors are the same\n"
          ]
        }
      ]
    }
  ]
}