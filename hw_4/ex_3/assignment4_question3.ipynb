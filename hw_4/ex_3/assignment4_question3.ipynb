{
  "nbformat": 4,
  "nbformat_minor": 0,
  "metadata": {
    "colab": {
      "provenance": [],
      "gpuType": "T4"
    },
    "kernelspec": {
      "name": "python3",
      "display_name": "Python 3"
    },
    "language_info": {
      "name": "python"
    },
    "accelerator": "GPU"
  },
  "cells": [
    {
      "cell_type": "code",
      "source": [
        "from google.colab import drive\n",
        "drive.mount('/content/drive')"
      ],
      "metadata": {
        "colab": {
          "base_uri": "https://localhost:8080/"
        },
        "id": "D8QhJ2mvVVeV",
        "outputId": "74f076f0-383b-41f8-f190-9ae103bcb99c"
      },
      "execution_count": null,
      "outputs": [
        {
          "output_type": "stream",
          "name": "stdout",
          "text": [
            "Mounted at /content/drive\n"
          ]
        }
      ]
    },
    {
      "cell_type": "code",
      "source": [
        "%cd /content/drive/MyDrive/DD2360/Assignment4/question3"
      ],
      "metadata": {
        "colab": {
          "base_uri": "https://localhost:8080/"
        },
        "id": "VqJAz5ULVXga",
        "outputId": "208daf2b-0436-45a6-ee0a-82980a483145"
      },
      "execution_count": null,
      "outputs": [
        {
          "output_type": "stream",
          "name": "stdout",
          "text": [
            "/content/drive/MyDrive/DD2360/Assignment4/question3\n"
          ]
        }
      ]
    },
    {
      "cell_type": "code",
      "execution_count": null,
      "metadata": {
        "colab": {
          "base_uri": "https://localhost:8080/"
        },
        "id": "9qy84gBuVFuy",
        "outputId": "64728244-1d2b-4b3f-a55a-0b33bec7501d"
      },
      "outputs": [
        {
          "output_type": "stream",
          "name": "stdout",
          "text": [
            "Overwriting heatEquation.cu\n"
          ]
        }
      ],
      "source": [
        "%%writefile heatEquation.cu\n",
        "#include <cuda_runtime_api.h>\n",
        "#include <math.h>\n",
        "#include <stdlib.h>\n",
        "#include <sys/time.h>\n",
        "#include <cusparse_v2.h>\n",
        "#include <cublas_v2.h>\n",
        "#include <thrust/device_ptr.h>\n",
        "#include <thrust/sequence.h>\n",
        "\n",
        "#define gpuCheck(stmt)                                               \\\n",
        "  do {                                                               \\\n",
        "      cudaError_t err = stmt;                                        \\\n",
        "      if (err != cudaSuccess) {                                      \\\n",
        "          printf(\"ERROR. Failed to run stmt %s\\n\", #stmt);           \\\n",
        "          break;                                                     \\\n",
        "      }                                                              \\\n",
        "  } while (0)\n",
        "\n",
        "// Macro to check the cuBLAS status\n",
        "#define cublasCheck(stmt)                                            \\\n",
        "  do {                                                               \\\n",
        "      cublasStatus_t err = stmt;                                     \\\n",
        "      if (err != CUBLAS_STATUS_SUCCESS) {                            \\\n",
        "          printf(\"ERROR. Failed to run cuBLAS stmt %s\\n\", #stmt);    \\\n",
        "          break;                                                     \\\n",
        "      }                                                              \\\n",
        "  } while (0)\n",
        "\n",
        "// Macro to check the cuSPARSE status\n",
        "#define cusparseCheck(stmt)                                          \\\n",
        "  do {                                                               \\\n",
        "      cusparseStatus_t err = stmt;                                   \\\n",
        "      if (err != CUSPARSE_STATUS_SUCCESS) {                          \\\n",
        "          printf(\"ERROR. Failed to run cuSPARSE stmt %s\\n\", #stmt);  \\\n",
        "          break;                                                     \\\n",
        "      }                                                              \\\n",
        "  } while (0)\n",
        "\n",
        "\n",
        "struct timeval t_start, t_end;\n",
        "void cputimer_start(){\n",
        "  gettimeofday(&t_start, 0);\n",
        "}\n",
        "void cputimer_stop(const char* info){\n",
        "  gettimeofday(&t_end, 0);\n",
        "  double time = (1000000.0*(t_end.tv_sec-t_start.tv_sec) + t_end.tv_usec-t_start.tv_usec);\n",
        "  printf(\"Timing - %s. \\t\\tElasped %.0f microseconds \\n\", info, time);\n",
        "}\n",
        "\n",
        "double cputimer_stop_return(){\n",
        "  gettimeofday(&t_end, 0);\n",
        "  double time = (1000000.0*(t_end.tv_sec-t_start.tv_sec) + t_end.tv_usec-t_start.tv_usec);\n",
        "  return time;\n",
        "}\n",
        "\n",
        "// Initialize the sparse matrix needed for the heat time step\n",
        "void matrixInit(double* A, int* ArowPtr, int* AcolIndx, int dimX,\n",
        "    double alpha) {\n",
        "  // Stencil from the finete difference discretization of the equation\n",
        "  double stencil[] = { 1, -2, 1 };\n",
        "  // Variable holding the position to insert a new element\n",
        "  size_t ptr = 0;\n",
        "  // Insert a row of zeros at the beginning of the matrix\n",
        "  ArowPtr[1] = ptr;\n",
        "  // Fill the non zero entries of the matrix\n",
        "  for (int i = 1; i < (dimX - 1); ++i) {\n",
        "    // Insert the elements: A[i][i-1], A[i][i], A[i][i+1]\n",
        "    for (int k = 0; k < 3; ++k) {\n",
        "      // Set the value for A[i][i+k-1]\n",
        "      A[ptr] = stencil[k];\n",
        "      // Set the column index for A[i][i+k-1]\n",
        "      AcolIndx[ptr++] = i + k - 1;\n",
        "    }\n",
        "    // Set the number of newly added elements\n",
        "    ArowPtr[i + 1] = ptr;\n",
        "  }\n",
        "  // Insert a row of zeros at the end of the matrix\n",
        "  ArowPtr[dimX] = ptr;\n",
        "}\n",
        "\n",
        "int main(int argc, char **argv) {\n",
        "  int device = 0;            // Device to be used\n",
        "  int dimX;                  // Dimension of the metal rod\n",
        "  int nsteps;                // Number of time steps to perform\n",
        "  double alpha = 0.4;        // Diffusion coefficient\n",
        "  double* temp;              // Array to store the final time step\n",
        "  double* A;                 // Sparse matrix A values in the CSR format\n",
        "  int* ARowPtr;              // Sparse matrix A row pointers in the CSR format\n",
        "  int* AColIndx;             // Sparse matrix A col values in the CSR format\n",
        "  int nzv;                   // Number of non zero values in the sparse matrix\n",
        "  double* tmp;               // Temporal array of dimX for computations\n",
        "  size_t bufferSize = 0;     // Buffer size needed by some routines\n",
        "  void* buffer = nullptr;    // Buffer used by some routines in the libraries\n",
        "  int concurrentAccessQ;     // Check if concurrent access flag is set\n",
        "  double zero = 0;           // Zero constant\n",
        "  double one = 1;            // One constant\n",
        "  double norm;               // Variable for norm values\n",
        "  double error;              // Variable for storing the relative error\n",
        "  double tempLeft = 200.;    // Left heat source applied to the rod\n",
        "  double tempRight = 300.;   // Right heat source applied to the rod\n",
        "  cublasHandle_t cublasHandle;      // cuBLAS handle\n",
        "  cusparseHandle_t cusparseHandle;  // cuSPARSE handle\n",
        "  //cusparseMatDescr_t Adescriptor;   // Mat descriptor needed by cuSPARSE\n",
        "  cusparseSpMatDescr_t Adescriptor;\n",
        "  // Read the arguments from the command line\n",
        "  dimX = atoi(argv[1]);\n",
        "  nsteps = atoi(argv[2]);\n",
        "\n",
        "  // Print input arguments\n",
        "  printf(\"The X dimension of the grid is %d \\n\", dimX);\n",
        "  printf(\"The number of time steps to perform is %d \\n\", nsteps);\n",
        "\n",
        "  // Get if the cudaDevAttrConcurrentManagedAccess flag is set\n",
        "  gpuCheck(cudaDeviceGetAttribute(&concurrentAccessQ, cudaDevAttrConcurrentManagedAccess, device));\n",
        "\n",
        "  // Calculate the number of non zero values in the sparse matrix. This number\n",
        "  // is known from the structure of the sparse matrix\n",
        "  nzv = 3 * dimX - 6;\n",
        "\n",
        "  //@@ Insert the code to allocate the temp, tmp and the sparse matrix\n",
        "  //@@ arrays using Unified Memory\n",
        "  cputimer_start();\n",
        "  gpuCheck(cudaMallocManaged(&temp, sizeof(double) * dimX));\n",
        "  gpuCheck(cudaMallocManaged(&tmp, sizeof(double) * dimX));\n",
        "  gpuCheck(cudaMallocManaged(&A, sizeof(double) * nzv));\n",
        "  gpuCheck(cudaMallocManaged(&ARowPtr, sizeof(int*) * (dimX + 1)));\n",
        "  gpuCheck(cudaMallocManaged(&AColIndx, sizeof(int*) * nzv));\n",
        "  cputimer_stop(\"Allocating device memory\");\n",
        "\n",
        "  // Check if concurrentAccessQ is non zero in order to prefetch memory\n",
        "  if (concurrentAccessQ) {\n",
        "    cputimer_start();\n",
        "    //@@ Insert code to prefetch in Unified Memory asynchronously to CPU\n",
        "    gpuCheck(cudaMemPrefetchAsync(temp, dimX * sizeof(double), cudaCpuDeviceId, NULL));\n",
        "    gpuCheck(cudaMemPrefetchAsync(tmp, dimX * sizeof(double), cudaCpuDeviceId, NULL));\n",
        "    gpuCheck(cudaMemPrefetchAsync(A, nzv * sizeof(double), cudaCpuDeviceId, NULL));\n",
        "    gpuCheck(cudaMemPrefetchAsync(ARowPtr,  sizeof(int*)*(dimX + 1) , cudaCpuDeviceId, NULL));\n",
        "    gpuCheck(cudaMemPrefetchAsync(AColIndx,sizeof(int*) * nzv , cudaCpuDeviceId, NULL));\n",
        "    cputimer_stop(\"Prefetching GPU memory to the host\");\n",
        "  }\n",
        "\n",
        "  // Initialize the sparse matrix\n",
        "  cputimer_start();\n",
        "  matrixInit(A, ARowPtr, AColIndx, dimX, alpha);\n",
        "  cputimer_stop(\"Initializing the sparse matrix on the host\");\n",
        "\n",
        "  //Initiliaze the boundary conditions for the heat equation\n",
        "  cputimer_start();\n",
        "  memset(temp, 0, sizeof(double) * dimX);\n",
        "  temp[0] = tempLeft;\n",
        "  temp[dimX - 1] = tempRight;\n",
        "  cputimer_stop(\"Initializing memory on the host\");\n",
        "\n",
        "  if (concurrentAccessQ) {\n",
        "    cputimer_start();\n",
        "    //@@ Insert code to prefetch in Unified Memory asynchronously to the GPU\n",
        "    gpuCheck(cudaMemPrefetchAsync(temp, sizeof(double) * dimX, device, NULL));\n",
        "    gpuCheck(cudaMemPrefetchAsync(tmp, sizeof(double) * dimX, device, NULL));\n",
        "    gpuCheck(cudaMemPrefetchAsync(A, sizeof(double) * nzv, device, NULL));\n",
        "    gpuCheck(cudaMemPrefetchAsync(ARowPtr, sizeof(int*) * (dimX + 1), device, NULL));\n",
        "    gpuCheck(cudaMemPrefetchAsync(AColIndx, sizeof(int*) * nzv, device, NULL));\n",
        "    cputimer_stop(\"Prefetching GPU memory to the device\");\n",
        "  }\n",
        "\n",
        "  //@@ Insert code to create the cuBLAS handle\n",
        "  cublasCheck(cublasCreate(&cublasHandle));\n",
        "\n",
        "  //@@ Insert code to create the cuSPARSE handle\n",
        "  cusparseCheck(cusparseCreate(&cusparseHandle));\n",
        "\n",
        "  //@@ Insert code to set the cuBLAS pointer mode to CUSPARSE_POINTER_MODE_HOST\n",
        "  cublasCheck(cublasSetPointerMode(cublasHandle, CUBLAS_POINTER_MODE_HOST));\n",
        "\n",
        "  //@@ Insert code to call cusparse api to create the mat descriptor used by cuSPARSE\n",
        "  //Comes from the Nvdia sparse matrix example:https://github.com/NVIDIA/CUDALibrarySamples/blob/master/cuSPARSE/spmv_csr/spmv_csr_example.c\n",
        "  // Create sparse matrix A in CSR format\n",
        "  cusparseCheck(cusparseCreateCsr(&Adescriptor, dimX, dimX, nzv, ARowPtr, AColIndx, A,\n",
        "                CUSPARSE_INDEX_32I, CUSPARSE_INDEX_32I, CUSPARSE_INDEX_BASE_ZERO, CUDA_R_32F));\n",
        "\n",
        "  cusparseDnVecDescr_t vecX, vecY;\n",
        "  // Create dense vector X\n",
        "  cusparseCheck(cusparseCreateDnVec(&vecY, dimX, tmp, CUDA_R_32F));\n",
        "  // Create dense vector y\n",
        "  cusparseCheck(cusparseCreateDnVec(&vecX, dimX, temp, CUDA_R_32F));\n",
        "\n",
        "  //@@ Insert code to call cusparse api to get the buffer size needed by the sparse matrix per\n",
        "  //@@ vector (SMPV) CSR routine of cuSPARSE\n",
        "\n",
        "  cusparseCheck(cusparseSpMV_bufferSize(cusparseHandle, CUSPARSE_OPERATION_NON_TRANSPOSE, &one, Adescriptor,\n",
        "    vecX, &zero, vecY, CUDA_R_32F, CUSPARSE_SPMV_CSR_ALG1, &bufferSize));\n",
        "\n",
        "\n",
        "  //@@ Insert code to allocate the buffer needed by cuSPARSE\n",
        "  gpuCheck(cudaMalloc(&buffer, bufferSize));\n",
        "\n",
        "  // Perform the time step iterations\n",
        "  double timer = 0;\n",
        "  for (int it = 0; it < nsteps; ++it) {\n",
        "    //@@ Insert code to call cusparse api to compute the SMPV (sparse matrix multiplication) for\n",
        "    //@@ the CSR matrix using cuSPARSE. This calculation corresponds to:\n",
        "    //@@ tmp = 1 * A * temp + 0 * tmp\n",
        "    cputimer_start();\n",
        "    cusparseCheck(cusparseSpMV(cusparseHandle,CUSPARSE_OPERATION_NON_TRANSPOSE,&one,Adescriptor,vecX,&zero,vecY,CUDA_R_32F,\n",
        "      CUSPARSE_SPMV_ALG_DEFAULT,buffer));\n",
        "    timer += cputimer_stop_return();\n",
        "    //@@ Insert code to call cublas api to compute the axpy routine using cuBLAS.\n",
        "    //@@ This calculation corresponds to: temp = alpha * tmp + temp\n",
        "    cublasCheck(cublasDaxpy(cublasHandle, dimX, &alpha, tmp,  1, temp, 1));\n",
        "\n",
        "    //@@ Insert code to call cublas api to compute the norm of the vector using cuBLAS\n",
        "    //@@ This calculation corresponds to: ||temp||\n",
        "    cublasCheck(cublasDnrm2(cublasHandle, dimX, temp, 1, &norm));\n",
        "\n",
        "    // If the norm of A*temp is smaller than 10^-4 exit the loop\n",
        "    if (norm < 1e-4)\n",
        "      break;\n",
        "  }\n",
        "  printf(\"timer:%.0f\\n\",timer);\n",
        "  int flops = nsteps * nzv / (((int)timer)*1e-6);\n",
        "  printf(\"The value of FLOPS in dimx:%d equals to %d\\n gflops\",dimX,flops);\n",
        "\n",
        "  // Calculate the exact solution using thrust\n",
        "  thrust::device_ptr<double> thrustPtr(tmp);\n",
        "  thrust::sequence(thrustPtr, thrustPtr + dimX, tempLeft,\n",
        "      (tempRight - tempLeft) / (dimX - 1));\n",
        "\n",
        "  // Calculate the relative approximation error:\n",
        "  one = -1;\n",
        "  //@@ Insert the code to call cublas api to compute the difference between the exact solution\n",
        "  //@@ and the approximation\n",
        "  //@@ This calculation corresponds to: tmp = -temp + tmp\n",
        "  cublasCheck(cublasDaxpy(cublasHandle, dimX, &one, temp, 1, tmp, 1));\n",
        "\n",
        "  //@@ Insert the code to call cublas api to compute the norm of the absolute error\n",
        "  //@@ This calculation corresponds to: || tmp ||\n",
        "  cublasCheck(cublasDnrm2(cublasHandle, dimX, tmp, 1, &norm));\n",
        "\n",
        "  error = norm;\n",
        "  //@@ Insert the code to call cublas api to compute the norm of temp\n",
        "  //@@ This calculation corresponds to: || temp ||\n",
        "  cublasCheck(cublasDnrm2(cublasHandle, dimX, temp, 1, &norm));\n",
        "\n",
        "  // Calculate the relative error\n",
        "  error = error / norm;\n",
        "  printf(\"The relative error of the approximation is %f\\n\", error);\n",
        "\n",
        "  //@@ Insert the code to destroy the mat descriptor\n",
        "  cusparseCheck(cusparseDestroySpMat(Adescriptor));\n",
        "\n",
        "  //@@ Insert the code to destroy the cuSPARSE handle\n",
        "  cusparseCheck(cusparseDestroy(cusparseHandle));\n",
        "\n",
        "  //@@ Insert the code to destroy the cuBLAS handle\n",
        "  cublasCheck(cublasDestroy(cublasHandle));\n",
        "\n",
        "\n",
        "  //@@ Insert the code for deallocating memory\n",
        "  cudaFree(temp);\n",
        "  cudaFree(tmp);\n",
        "  cudaFree(A);\n",
        "  cudaFree(ARowPtr);\n",
        "  cudaFree(AColIndx);\n",
        "  cudaFree(buffer);\n",
        "\n",
        "  return 0;\n",
        "}\n",
        "\n",
        "\n"
      ]
    },
    {
      "cell_type": "code",
      "source": [
        "!nvcc heatEquation.cu -lcublas -lcusparse\n",
        "!ls"
      ],
      "metadata": {
        "colab": {
          "base_uri": "https://localhost:8080/"
        },
        "id": "LVpaEfVnZI10",
        "outputId": "62181b50-7eac-4862-d4b1-57c6a9c909a5"
      },
      "execution_count": null,
      "outputs": [
        {
          "output_type": "stream",
          "name": "stdout",
          "text": [
            "a.out  heatEquation.cu\tsample_data\n"
          ]
        }
      ]
    },
    {
      "cell_type": "code",
      "source": [
        "!./a.out 65536 128"
      ],
      "metadata": {
        "colab": {
          "base_uri": "https://localhost:8080/"
        },
        "id": "bLZt1Eg0tNtp",
        "outputId": "a97cf153-20f5-4186-f360-6452de94ba99"
      },
      "execution_count": null,
      "outputs": [
        {
          "output_type": "stream",
          "name": "stdout",
          "text": [
            "The X dimension of the grid is 65536 \n",
            "The number of time steps to perform is 128 \n",
            "Timing - Allocating device memory. \t\tElasped 210282 microseconds \n",
            "Timing - Prefetching GPU memory to the host. \t\tElasped 1596 microseconds \n",
            "Timing - Initializing the sparse matrix on the host. \t\tElasped 1167 microseconds \n",
            "Timing - Initializing memory on the host. \t\tElasped 78 microseconds \n",
            "Timing - Prefetching GPU memory to the device. \t\tElasped 1656 microseconds \n",
            "timer:1172\n",
            "The value of FLOPS in dimx:65536 equals to 21\n",
            "The relative error of the approximation is 214.748561\n"
          ]
        }
      ]
    },
    {
      "cell_type": "code",
      "source": [
        "!./a.out 524288 128"
      ],
      "metadata": {
        "colab": {
          "base_uri": "https://localhost:8080/"
        },
        "id": "9oqmZs1Ok-8e",
        "outputId": "83dced3d-8756-4458-c09d-1b80cb90adba"
      },
      "execution_count": null,
      "outputs": [
        {
          "output_type": "stream",
          "name": "stdout",
          "text": [
            "The X dimension of the grid is 524288 \n",
            "The number of time steps to perform is 128 \n",
            "Timing - Allocating device memory. \t\tElasped 180210 microseconds \n",
            "Timing - Prefetching GPU memory to the host. \t\tElasped 8487 microseconds \n",
            "Timing - Initializing the sparse matrix on the host. \t\tElasped 7289 microseconds \n",
            "Timing - Initializing memory on the host. \t\tElasped 904 microseconds \n",
            "Timing - Prefetching GPU memory to the device. \t\tElasped 544 microseconds \n",
            "timer:814\n",
            "The value of FLOPS in dimx:524288 equals to 247\n",
            "The relative error of the approximation is 607.406310\n"
          ]
        }
      ]
    },
    {
      "cell_type": "code",
      "source": [
        "!./a.out 4194304 128"
      ],
      "metadata": {
        "colab": {
          "base_uri": "https://localhost:8080/"
        },
        "id": "J0IKK1awlXgM",
        "outputId": "e5584a9e-a3a6-4e3b-806a-a6acb9f7a0ae"
      },
      "execution_count": null,
      "outputs": [
        {
          "output_type": "stream",
          "name": "stdout",
          "text": [
            "The X dimension of the grid is 4194304 \n",
            "The number of time steps to perform is 128 \n",
            "Timing - Allocating device memory. \t\tElasped 179684 microseconds \n",
            "Timing - Prefetching GPU memory to the host. \t\tElasped 82041 microseconds \n",
            "Timing - Initializing the sparse matrix on the host. \t\tElasped 54439 microseconds \n",
            "Timing - Initializing memory on the host. \t\tElasped 7352 microseconds \n",
            "Timing - Prefetching GPU memory to the device. \t\tElasped 2696 microseconds \n",
            "timer:1323\n",
            "The value of FLOPS in dimx:4194304 equals to 1217\n",
            "The relative error of the approximation is 1718.006484\n"
          ]
        }
      ]
    },
    {
      "cell_type": "code",
      "source": [
        "!./a.out 16777216 128"
      ],
      "metadata": {
        "colab": {
          "base_uri": "https://localhost:8080/"
        },
        "id": "B8IAcGGklfoG",
        "outputId": "85fc50d0-8a57-414f-f97c-6debe706bb97"
      },
      "execution_count": null,
      "outputs": [
        {
          "output_type": "stream",
          "name": "stdout",
          "text": [
            "The X dimension of the grid is 16777216 \n",
            "The number of time steps to perform is 128 \n",
            "Timing - Allocating device memory. \t\tElasped 184273 microseconds \n",
            "Timing - Prefetching GPU memory to the host. \t\tElasped 259051 microseconds \n",
            "Timing - Initializing the sparse matrix on the host. \t\tElasped 212982 microseconds \n",
            "Timing - Initializing memory on the host. \t\tElasped 28932 microseconds \n",
            "Timing - Prefetching GPU memory to the device. \t\tElasped 5018 microseconds \n",
            "timer:1090\n",
            "The value of FLOPS in dimx:16777216 equals to 1970\n",
            "The relative error of the approximation is 3436.013396\n"
          ]
        }
      ]
    },
    {
      "cell_type": "code",
      "source": [
        "!for i in {2..10..1}; do ./a.out $((2 ** i)) 10; done"
      ],
      "metadata": {
        "colab": {
          "base_uri": "https://localhost:8080/"
        },
        "id": "QdVCP52ImI5y",
        "outputId": "da496abd-c8d6-4a1e-80cc-a3e541d7563d"
      },
      "execution_count": null,
      "outputs": [
        {
          "output_type": "stream",
          "name": "stdout",
          "text": [
            "The X dimension of the grid is 4 \n",
            "The number of time steps to perform is 10 \n",
            "Timing - Allocating device memory. \t\tElasped 195041 microseconds \n",
            "Timing - Prefetching GPU memory to the host. \t\tElasped 488 microseconds \n",
            "Timing - Initializing the sparse matrix on the host. \t\tElasped 1 microseconds \n",
            "Timing - Initializing memory on the host. \t\tElasped 1 microseconds \n",
            "Timing - Prefetching GPU memory to the device. \t\tElasped 405 microseconds \n",
            "timer:322\n",
            "The value of FLOPS in dimx:4 equals to 186335\n",
            " gflopsThe relative error of the approximation is 0.982757\n",
            "The X dimension of the grid is 8 \n",
            "The number of time steps to perform is 10 \n",
            "Timing - Allocating device memory. \t\tElasped 162895 microseconds \n",
            "Timing - Prefetching GPU memory to the host. \t\tElasped 443 microseconds \n",
            "Timing - Initializing the sparse matrix on the host. \t\tElasped 1 microseconds \n",
            "Timing - Initializing memory on the host. \t\tElasped 0 microseconds \n",
            "Timing - Prefetching GPU memory to the device. \t\tElasped 451 microseconds \n",
            "timer:357\n",
            "The value of FLOPS in dimx:8 equals to 504201\n",
            " gflopsThe relative error of the approximation is 1.706484\n",
            "The X dimension of the grid is 16 \n",
            "The number of time steps to perform is 10 \n",
            "Timing - Allocating device memory. \t\tElasped 156052 microseconds \n",
            "Timing - Prefetching GPU memory to the host. \t\tElasped 600 microseconds \n",
            "Timing - Initializing the sparse matrix on the host. \t\tElasped 0 microseconds \n",
            "Timing - Initializing memory on the host. \t\tElasped 0 microseconds \n",
            "Timing - Prefetching GPU memory to the device. \t\tElasped 428 microseconds \n",
            "timer:332\n",
            "The value of FLOPS in dimx:16 equals to 1265060\n",
            " gflopsThe relative error of the approximation is 2.609319\n",
            "The X dimension of the grid is 32 \n",
            "The number of time steps to perform is 10 \n",
            "Timing - Allocating device memory. \t\tElasped 166920 microseconds \n",
            "Timing - Prefetching GPU memory to the host. \t\tElasped 479 microseconds \n",
            "Timing - Initializing the sparse matrix on the host. \t\tElasped 1 microseconds \n",
            "Timing - Initializing memory on the host. \t\tElasped 0 microseconds \n",
            "Timing - Prefetching GPU memory to the device. \t\tElasped 412 microseconds \n",
            "timer:337\n",
            "The value of FLOPS in dimx:32 equals to 2670623\n",
            " gflopsThe relative error of the approximation is 3.821384\n",
            "The X dimension of the grid is 64 \n",
            "The number of time steps to perform is 10 \n",
            "Timing - Allocating device memory. \t\tElasped 168318 microseconds \n",
            "Timing - Prefetching GPU memory to the host. \t\tElasped 475 microseconds \n",
            "Timing - Initializing the sparse matrix on the host. \t\tElasped 2 microseconds \n",
            "Timing - Initializing memory on the host. \t\tElasped 0 microseconds \n",
            "Timing - Prefetching GPU memory to the device. \t\tElasped 402 microseconds \n",
            "timer:337\n",
            "The value of FLOPS in dimx:64 equals to 5519287\n",
            " gflopsThe relative error of the approximation is 5.494771\n",
            "The X dimension of the grid is 128 \n",
            "The number of time steps to perform is 10 \n",
            "Timing - Allocating device memory. \t\tElasped 167546 microseconds \n",
            "Timing - Prefetching GPU memory to the host. \t\tElasped 480 microseconds \n",
            "Timing - Initializing the sparse matrix on the host. \t\tElasped 3 microseconds \n",
            "Timing - Initializing memory on the host. \t\tElasped 0 microseconds \n",
            "Timing - Prefetching GPU memory to the device. \t\tElasped 416 microseconds \n",
            "timer:361\n",
            "The value of FLOPS in dimx:128 equals to 10470914\n",
            " gflopsThe relative error of the approximation is 7.834022\n",
            "The X dimension of the grid is 256 \n",
            "The number of time steps to perform is 10 \n",
            "Timing - Allocating device memory. \t\tElasped 171222 microseconds \n",
            "Timing - Prefetching GPU memory to the host. \t\tElasped 450 microseconds \n",
            "Timing - Initializing the sparse matrix on the host. \t\tElasped 6 microseconds \n",
            "Timing - Initializing memory on the host. \t\tElasped 1 microseconds \n",
            "Timing - Prefetching GPU memory to the device. \t\tElasped 414 microseconds \n",
            "timer:314\n",
            "The value of FLOPS in dimx:256 equals to 24267515\n",
            " gflopsThe relative error of the approximation is 11.123436\n",
            "The X dimension of the grid is 512 \n",
            "The number of time steps to perform is 10 \n",
            "Timing - Allocating device memory. \t\tElasped 166812 microseconds \n",
            "Timing - Prefetching GPU memory to the host. \t\tElasped 459 microseconds \n",
            "Timing - Initializing the sparse matrix on the host. \t\tElasped 10 microseconds \n",
            "Timing - Initializing memory on the host. \t\tElasped 1 microseconds \n",
            "Timing - Prefetching GPU memory to the device. \t\tElasped 447 microseconds \n",
            "timer:315\n",
            "The value of FLOPS in dimx:512 equals to 48571428\n",
            " gflopsThe relative error of the approximation is 15.762257\n",
            "The X dimension of the grid is 1024 \n",
            "The number of time steps to perform is 10 \n",
            "Timing - Allocating device memory. \t\tElasped 168774 microseconds \n",
            "Timing - Prefetching GPU memory to the host. \t\tElasped 457 microseconds \n",
            "Timing - Initializing the sparse matrix on the host. \t\tElasped 19 microseconds \n",
            "Timing - Initializing memory on the host. \t\tElasped 2 microseconds \n",
            "Timing - Prefetching GPU memory to the device. \t\tElasped 437 microseconds \n",
            "timer:349\n",
            "The value of FLOPS in dimx:1024 equals to 87851002\n",
            " gflopsThe relative error of the approximation is 22.313328\n"
          ]
        }
      ]
    },
    {
      "cell_type": "code",
      "source": [
        "!for i in {100..10000..900}; do ./a.out 128 $i; done"
      ],
      "metadata": {
        "colab": {
          "base_uri": "https://localhost:8080/"
        },
        "id": "0nsUrka3t2VS",
        "outputId": "e91c4e97-fc59-4d71-e3bc-52dbf7196217"
      },
      "execution_count": null,
      "outputs": [
        {
          "output_type": "stream",
          "name": "stdout",
          "text": [
            "The X dimension of the grid is 128 \n",
            "The number of time steps to perform is 100 \n",
            "Timing - Allocating device memory. \t\tElasped 187048 microseconds \n",
            "Timing - Prefetching GPU memory to the host. \t\tElasped 568 microseconds \n",
            "Timing - Initializing the sparse matrix on the host. \t\tElasped 3 microseconds \n",
            "Timing - Initializing memory on the host. \t\tElasped 1 microseconds \n",
            "Timing - Prefetching GPU memory to the device. \t\tElasped 406 microseconds \n",
            "Timing - Computing the SMPV. \t\t\tElasped 5755 microseconds \n",
            "The relative error of the approximation is 3.318021\n",
            "The X dimension of the grid is 128 \n",
            "The number of time steps to perform is 1000 \n",
            "Timing - Allocating device memory. \t\tElasped 171351 microseconds \n",
            "Timing - Prefetching GPU memory to the host. \t\tElasped 459 microseconds \n",
            "Timing - Initializing the sparse matrix on the host. \t\tElasped 3 microseconds \n",
            "Timing - Initializing memory on the host. \t\tElasped 0 microseconds \n",
            "Timing - Prefetching GPU memory to the device. \t\tElasped 374 microseconds \n",
            "Timing - Computing the SMPV. \t\t\tElasped 10539 microseconds \n",
            "The relative error of the approximation is 1.488118\n",
            "The X dimension of the grid is 128 \n",
            "The number of time steps to perform is 1900 \n",
            "Timing - Allocating device memory. \t\tElasped 172313 microseconds \n",
            "Timing - Prefetching GPU memory to the host. \t\tElasped 517 microseconds \n",
            "Timing - Initializing the sparse matrix on the host. \t\tElasped 3 microseconds \n",
            "Timing - Initializing memory on the host. \t\tElasped 0 microseconds \n",
            "Timing - Prefetching GPU memory to the device. \t\tElasped 383 microseconds \n",
            "Timing - Computing the SMPV. \t\t\tElasped 24463 microseconds \n",
            "The relative error of the approximation is 1.002871\n",
            "The X dimension of the grid is 128 \n",
            "The number of time steps to perform is 2800 \n",
            "Timing - Allocating device memory. \t\tElasped 189261 microseconds \n",
            "Timing - Prefetching GPU memory to the host. \t\tElasped 439 microseconds \n",
            "Timing - Initializing the sparse matrix on the host. \t\tElasped 3 microseconds \n",
            "Timing - Initializing memory on the host. \t\tElasped 0 microseconds \n",
            "Timing - Prefetching GPU memory to the device. \t\tElasped 368 microseconds \n",
            "Timing - Computing the SMPV. \t\t\tElasped 29184 microseconds \n",
            "The relative error of the approximation is 0.709273\n",
            "The X dimension of the grid is 128 \n",
            "The number of time steps to perform is 3700 \n",
            "Timing - Allocating device memory. \t\tElasped 188477 microseconds \n",
            "Timing - Prefetching GPU memory to the host. \t\tElasped 483 microseconds \n",
            "Timing - Initializing the sparse matrix on the host. \t\tElasped 3 microseconds \n",
            "Timing - Initializing memory on the host. \t\tElasped 0 microseconds \n",
            "Timing - Prefetching GPU memory to the device. \t\tElasped 382 microseconds \n",
            "Timing - Computing the SMPV. \t\t\tElasped 37764 microseconds \n",
            "The relative error of the approximation is 0.515628\n",
            "The X dimension of the grid is 128 \n",
            "The number of time steps to perform is 4600 \n",
            "Timing - Allocating device memory. \t\tElasped 231379 microseconds \n",
            "Timing - Prefetching GPU memory to the host. \t\tElasped 526 microseconds \n",
            "Timing - Initializing the sparse matrix on the host. \t\tElasped 3 microseconds \n",
            "Timing - Initializing memory on the host. \t\tElasped 0 microseconds \n",
            "Timing - Prefetching GPU memory to the device. \t\tElasped 421 microseconds \n",
            "Timing - Computing the SMPV. \t\t\tElasped 48180 microseconds \n",
            "The relative error of the approximation is 0.383105\n",
            "The X dimension of the grid is 128 \n",
            "The number of time steps to perform is 5500 \n",
            "Timing - Allocating device memory. \t\tElasped 194818 microseconds \n",
            "Timing - Prefetching GPU memory to the host. \t\tElasped 543 microseconds \n",
            "Timing - Initializing the sparse matrix on the host. \t\tElasped 3 microseconds \n",
            "Timing - Initializing memory on the host. \t\tElasped 0 microseconds \n",
            "Timing - Prefetching GPU memory to the device. \t\tElasped 347 microseconds \n",
            "Timing - Computing the SMPV. \t\t\tElasped 51130 microseconds \n",
            "The relative error of the approximation is 0.289539\n",
            "The X dimension of the grid is 128 \n",
            "The number of time steps to perform is 6400 \n",
            "Timing - Allocating device memory. \t\tElasped 168019 microseconds \n",
            "Timing - Prefetching GPU memory to the host. \t\tElasped 499 microseconds \n",
            "Timing - Initializing the sparse matrix on the host. \t\tElasped 5 microseconds \n",
            "Timing - Initializing memory on the host. \t\tElasped 0 microseconds \n",
            "Timing - Prefetching GPU memory to the device. \t\tElasped 243 microseconds \n",
            "Timing - Computing the SMPV. \t\t\tElasped 40144 microseconds \n",
            "The relative error of the approximation is 0.221721\n",
            "The X dimension of the grid is 128 \n",
            "The number of time steps to perform is 7300 \n",
            "Timing - Allocating device memory. \t\tElasped 167905 microseconds \n",
            "Timing - Prefetching GPU memory to the host. \t\tElasped 538 microseconds \n",
            "Timing - Initializing the sparse matrix on the host. \t\tElasped 5 microseconds \n",
            "Timing - Initializing memory on the host. \t\tElasped 1 microseconds \n",
            "Timing - Prefetching GPU memory to the device. \t\tElasped 254 microseconds \n",
            "Timing - Computing the SMPV. \t\t\tElasped 46461 microseconds \n",
            "The relative error of the approximation is 0.171513\n",
            "The X dimension of the grid is 128 \n",
            "The number of time steps to perform is 8200 \n",
            "Timing - Allocating device memory. \t\tElasped 166023 microseconds \n",
            "Timing - Prefetching GPU memory to the host. \t\tElasped 490 microseconds \n",
            "Timing - Initializing the sparse matrix on the host. \t\tElasped 3 microseconds \n",
            "Timing - Initializing memory on the host. \t\tElasped 0 microseconds \n",
            "Timing - Prefetching GPU memory to the device. \t\tElasped 247 microseconds \n",
            "Timing - Computing the SMPV. \t\t\tElasped 52007 microseconds \n",
            "The relative error of the approximation is 0.133713\n",
            "The X dimension of the grid is 128 \n",
            "The number of time steps to perform is 9100 \n",
            "Timing - Allocating device memory. \t\tElasped 164057 microseconds \n",
            "Timing - Prefetching GPU memory to the host. \t\tElasped 447 microseconds \n",
            "Timing - Initializing the sparse matrix on the host. \t\tElasped 4 microseconds \n",
            "Timing - Initializing memory on the host. \t\tElasped 0 microseconds \n",
            "Timing - Prefetching GPU memory to the device. \t\tElasped 278 microseconds \n",
            "Timing - Computing the SMPV. \t\t\tElasped 58178 microseconds \n",
            "The relative error of the approximation is 0.104876\n",
            "The X dimension of the grid is 128 \n",
            "The number of time steps to perform is 10000 \n",
            "Timing - Allocating device memory. \t\tElasped 167967 microseconds \n",
            "Timing - Prefetching GPU memory to the host. \t\tElasped 478 microseconds \n",
            "Timing - Initializing the sparse matrix on the host. \t\tElasped 5 microseconds \n",
            "Timing - Initializing memory on the host. \t\tElasped 1 microseconds \n",
            "Timing - Prefetching GPU memory to the device. \t\tElasped 249 microseconds \n",
            "Timing - Computing the SMPV. \t\t\tElasped 61303 microseconds \n",
            "The relative error of the approximation is 0.082647\n"
          ]
        }
      ]
    },
    {
      "cell_type": "markdown",
      "source": [
        "with prefetching"
      ],
      "metadata": {
        "id": "RvOIaXT_8K97"
      }
    },
    {
      "cell_type": "code",
      "source": [
        "!nvprof ./a.out 128 1000\n"
      ],
      "metadata": {
        "colab": {
          "base_uri": "https://localhost:8080/"
        },
        "id": "RssG2l-T8Dgh",
        "outputId": "284a8ef8-44eb-4b16-99c4-cbf4f7167602"
      },
      "execution_count": null,
      "outputs": [
        {
          "output_type": "stream",
          "name": "stdout",
          "text": [
            "The X dimension of the grid is 128 \n",
            "The number of time steps to perform is 1000 \n",
            "==35770== NVPROF is profiling process 35770, command: ./a.out 128 1000\n",
            "Timing - Allocating device memory. \t\tElasped 244708 microseconds \n",
            "Timing - Prefetching GPU memory to the host. \t\tElasped 609 microseconds \n",
            "Timing - Initializing the sparse matrix on the host. \t\tElasped 5 microseconds \n",
            "Timing - Initializing memory on the host. \t\tElasped 0 microseconds \n",
            "Timing - Prefetching GPU memory to the device. \t\tElasped 437 microseconds \n",
            "Timing - Computing the SMPV. \t\t\tElasped 26123 microseconds \n",
            "The relative error of the approximation is 1.488118\n",
            "==35770== Profiling application: ./a.out 128 1000\n",
            "==35770== Profiling result:\n",
            "            Type  Time(%)      Time     Calls       Avg       Min       Max  Name\n",
            " GPU activities:   80.31%  92.986ms      2004  46.400us  32.959us  54.655us  void nrm2_kernel<double, double, double, int=0, int=0, int=128>(cublasNrm2Params<int, double, double>)\n",
            "                   10.24%  11.851ms      1000  11.851us  9.4400us  13.472us  void cusparse::csrmv_v3_kernel<bool=0, int, int, double, double, double, double, void>(cusparse::KernelCoeffs<double>, int const *, int const *, int const , double const *, int const *, int, int, double const *, double*, cusparse::KernelCoeffs<double>*, cusparse::KernelCoeffs*)\n",
            "                    4.47%  5.1707ms      1000  5.1700us  4.2870us  6.8800us  void cusparse::csrmv_v3_partition_kernel<int=256, cusparse::VectorScalarMultiplyPolicy, int, int, double, double, double>(int const *, int, cusparse::csrmv_v3_partition_kernel<int=256, cusparse::VectorScalarMultiplyPolicy, int, int, double, double, double>, int, int const **, cusparse::KernelCoeff<double>, int const *, double*)\n",
            "                    2.85%  3.2979ms      1001  3.2940us  2.7200us  3.4570us  void axpy_kernel_val<double, double>(cublasAxpyParamsVal<double, double, double>)\n",
            "                    1.44%  1.6628ms      1002  1.6590us  1.5670us  5.5680us  [CUDA memcpy DtoH]\n",
            "                    0.70%  813.30us      1002     811ns     704ns  1.7590us  [CUDA memcpy HtoD]\n",
            "                    0.00%  2.4000us         1  2.4000us  2.4000us  2.4000us  void thrust::cuda_cub::core::_kernel_agent<thrust::cuda_cub::__parallel_for::ParallelForAgent<thrust::cuda_cub::__tabulate::functor<thrust::device_ptr<double>, thrust::system::detail::generic::detail::compute_sequence_value<double, void>, long>, long>, thrust::cuda_cub::__tabulate::functor<thrust::device_ptr<double>, thrust::system::detail::generic::detail::compute_sequence_value<double, void>, long>, long>(thrust::device_ptr<double>, double)\n",
            "      API calls:   55.54%  244.70ms         5  48.940ms  7.6220us  244.63ms  cudaMallocManaged\n",
            "                   24.17%  106.48ms      2004  53.132us  3.0280us  273.71us  cudaMemcpyAsync\n",
            "                    9.89%  43.561ms      5006  8.7010us  3.1400us  9.0648ms  cudaLaunchKernel\n",
            "                    4.72%  20.785ms        12  1.7321ms  5.5740us  14.689ms  cudaFree\n",
            "                    2.68%  11.811ms      1004  11.764us  3.3150us  4.8600ms  cudaFuncGetAttributes\n",
            "                    0.81%  3.5554ms      5010     709ns     332ns  18.275us  cudaStreamGetCaptureInfo\n",
            "                    0.57%  2.5147ms      1003  2.5070us  1.5620us  31.739us  cudaStreamSynchronize\n",
            "                    0.43%  1.8891ms      6023     313ns     139ns  17.348us  cudaGetLastError\n",
            "                    0.38%  1.6700ms      1002  1.6660us     753ns  76.846us  cudaEventRecord\n",
            "                    0.27%  1.1782ms         1  1.1782ms  1.1782ms  1.1782ms  cudaGetSymbolAddress\n",
            "                    0.23%  1.0314ms        10  103.14us  3.2450us  576.33us  cudaMemPrefetchAsync\n",
            "                    0.12%  546.66us       447  1.2220us     137ns  72.390us  cuDeviceGetAttribute\n",
            "                    0.07%  317.03us      1156     274ns     145ns  6.5700us  cuGetProcAddress\n",
            "                    0.05%  216.56us         4  54.139us  4.0000us  123.63us  cudaMalloc\n",
            "                    0.03%  115.52us         1  115.52us  115.52us  115.52us  cudaGetDeviceProperties\n",
            "                    0.01%  47.424us         4  11.856us  8.4040us  15.531us  cuDeviceGetName\n",
            "                    0.01%  26.314us        18  1.4610us     499ns  12.316us  cudaEventCreateWithFlags\n",
            "                    0.01%  22.995us        18  1.2770us     811ns  6.3720us  cudaEventDestroy\n",
            "                    0.00%  17.581us        19     925ns     331ns  2.9370us  cudaDeviceGetAttribute\n",
            "                    0.00%  14.792us         4  3.6980us  1.9000us  6.1460us  cudaDeviceSynchronize\n",
            "                    0.00%  14.738us         7  2.1050us     476ns  6.1320us  cudaGetDevice\n",
            "                    0.00%  7.7890us         4  1.9470us     595ns  5.9130us  cuDeviceTotalMem\n",
            "                    0.00%  7.6320us         1  7.6320us  7.6320us  7.6320us  cuDeviceGetPCIBusId\n",
            "                    0.00%  5.1370us         3  1.7120us  1.6500us  1.8350us  cuInit\n",
            "                    0.00%  3.2620us         1  3.2620us  3.2620us  3.2620us  cudaEventQuery\n",
            "                    0.00%  2.4210us         6     403ns     186ns  1.2810us  cuDeviceGetCount\n",
            "                    0.00%  1.6990us         5     339ns     167ns     963ns  cuDeviceGet\n",
            "                    0.00%  1.2560us         4     314ns     227ns     523ns  cuModuleGetLoadingMode\n",
            "                    0.00%  1.0460us         4     261ns     226ns     296ns  cuDeviceGetUuid\n",
            "                    0.00%     670ns         3     223ns     196ns     267ns  cuDriverGetVersion\n",
            "                    0.00%     612ns         2     306ns     226ns     386ns  cudaPeekAtLastError\n",
            "                    0.00%     472ns         1     472ns     472ns     472ns  cudaDriverGetVersion\n",
            "                    0.00%     427ns         1     427ns     427ns     427ns  cudaGetDeviceCount\n",
            "\n",
            "==35770== Unified Memory profiling result:\n",
            "Device \"Tesla T4 (0)\"\n",
            "   Count  Avg Size  Min Size  Max Size  Total Size  Total Time  Name\n",
            "       3  4.0000KB  4.0000KB  4.0000KB  12.00000KB  9.504000us  Host To Device\n"
          ]
        }
      ]
    },
    {
      "cell_type": "markdown",
      "source": [
        "without prefetching"
      ],
      "metadata": {
        "id": "M5eduXHN8Rej"
      }
    },
    {
      "cell_type": "code",
      "source": [
        "!nvprof ./a.out 128 1000"
      ],
      "metadata": {
        "colab": {
          "base_uri": "https://localhost:8080/"
        },
        "id": "RYhUGYJ58Qya",
        "outputId": "5769f954-07c8-45aa-bcc2-e49fe4bba10b"
      },
      "execution_count": null,
      "outputs": [
        {
          "output_type": "stream",
          "name": "stdout",
          "text": [
            "The X dimension of the grid is 128 \n",
            "The number of time steps to perform is 1000 \n",
            "==36128== NVPROF is profiling process 36128, command: ./a.out 128 1000\n",
            "Timing - Allocating device memory. \t\tElasped 222999 microseconds \n",
            "Timing - Initializing the sparse matrix on the host. \t\tElasped 583 microseconds \n",
            "Timing - Initializing memory on the host. \t\tElasped 1 microseconds \n",
            "Timing - Computing the SMPV. \t\t\tElasped 22360 microseconds \n",
            "The relative error of the approximation is 1.488118\n",
            "==36128== Profiling application: ./a.out 128 1000\n",
            "==36128== Profiling result:\n",
            "            Type  Time(%)      Time     Calls       Avg       Min       Max  Name\n",
            " GPU activities:   80.29%  97.670ms      2004  48.737us  44.383us  54.686us  void nrm2_kernel<double, double, double, int=0, int=0, int=128>(cublasNrm2Params<int, double, double>)\n",
            "                   10.14%  12.338ms      1000  12.337us  12.192us  13.408us  void cusparse::csrmv_v3_kernel<bool=0, int, int, double, double, double, double, void>(cusparse::KernelCoeffs<double>, int const *, int const *, int const , double const *, int const *, int, int, double const *, double*, cusparse::KernelCoeffs<double>*, cusparse::KernelCoeffs*)\n",
            "                    4.68%  5.6970ms      1000  5.6970us  5.2160us  422.81us  void cusparse::csrmv_v3_partition_kernel<int=256, cusparse::VectorScalarMultiplyPolicy, int, int, double, double, double>(int const *, int, cusparse::csrmv_v3_partition_kernel<int=256, cusparse::VectorScalarMultiplyPolicy, int, int, double, double, double>, int, int const **, cusparse::KernelCoeff<double>, int const *, double*)\n",
            "                    2.78%  3.3838ms      1001  3.3800us  3.3270us  3.4240us  void axpy_kernel_val<double, double>(cublasAxpyParamsVal<double, double, double>)\n",
            "                    1.35%  1.6408ms      1002  1.6370us  1.5990us  2.4320us  [CUDA memcpy DtoH]\n",
            "                    0.75%  906.78us      1002     904ns     735ns  1.8240us  [CUDA memcpy HtoD]\n",
            "                    0.00%  2.9760us         1  2.9760us  2.9760us  2.9760us  void thrust::cuda_cub::core::_kernel_agent<thrust::cuda_cub::__parallel_for::ParallelForAgent<thrust::cuda_cub::__tabulate::functor<thrust::device_ptr<double>, thrust::system::detail::generic::detail::compute_sequence_value<double, void>, long>, long>, thrust::cuda_cub::__tabulate::functor<thrust::device_ptr<double>, thrust::system::detail::generic::detail::compute_sequence_value<double, void>, long>, long>(thrust::device_ptr<double>, double)\n",
            "      API calls:   53.71%  222.99ms         5  44.599ms  4.5880us  222.96ms  cudaMallocManaged\n",
            "                   27.09%  112.45ms      2004  56.113us  2.9080us  177.25us  cudaMemcpyAsync\n",
            "                    9.22%  38.289ms      5006  7.6480us  2.9840us  7.8346ms  cudaLaunchKernel\n",
            "                    4.75%  19.723ms        12  1.6436ms  6.1460us  13.716ms  cudaFree\n",
            "                    2.71%  11.264ms      1004  11.218us  3.2380us  4.8864ms  cudaFuncGetAttributes\n",
            "                    0.88%  3.6735ms      5010     733ns     323ns  557.22us  cudaStreamGetCaptureInfo\n",
            "                    0.53%  2.1870ms      1003  2.1800us  1.5430us  18.510us  cudaStreamSynchronize\n",
            "                    0.39%  1.6032ms      6023     266ns     142ns  12.789us  cudaGetLastError\n",
            "                    0.32%  1.3360ms      1002  1.3330us     772ns  13.843us  cudaEventRecord\n",
            "                    0.12%  507.24us       447  1.1340us     135ns  57.267us  cuDeviceGetAttribute\n",
            "                    0.07%  287.54us      1156     248ns     143ns  4.8760us  cuGetProcAddress\n",
            "                    0.07%  273.02us         1  273.02us  273.02us  273.02us  cudaGetSymbolAddress\n",
            "                    0.06%  230.16us         4  57.540us  4.2190us  119.41us  cudaMalloc\n",
            "                    0.03%  118.77us         1  118.77us  118.77us  118.77us  cudaGetDeviceProperties\n",
            "                    0.01%  48.413us         4  12.103us  6.6180us  15.731us  cuDeviceGetName\n",
            "                    0.01%  41.047us        18  2.2800us     896ns  18.239us  cudaEventDestroy\n",
            "                    0.01%  32.887us         7  4.6980us     610ns  23.112us  cudaGetDevice\n",
            "                    0.01%  27.440us        18  1.5240us     452ns  9.7000us  cudaEventCreateWithFlags\n",
            "                    0.00%  16.156us         4  4.0390us  2.1020us  6.5060us  cudaDeviceSynchronize\n",
            "                    0.00%  12.796us        19     673ns     325ns  3.0140us  cudaDeviceGetAttribute\n",
            "                    0.00%  7.8040us         1  7.8040us  7.8040us  7.8040us  cuDeviceGetPCIBusId\n",
            "                    0.00%  7.3740us         4  1.8430us     428ns  5.6650us  cuDeviceTotalMem\n",
            "                    0.00%  4.8610us         3  1.6200us  1.2860us  1.8270us  cuInit\n",
            "                    0.00%  3.6900us         1  3.6900us  3.6900us  3.6900us  cudaEventQuery\n",
            "                    0.00%  2.8760us         6     479ns     201ns  1.6920us  cuDeviceGetCount\n",
            "                    0.00%  1.6790us         5     335ns     169ns     919ns  cuDeviceGet\n",
            "                    0.00%  1.3650us         4     341ns     212ns     625ns  cuModuleGetLoadingMode\n",
            "                    0.00%     807ns         4     201ns     161ns     247ns  cuDeviceGetUuid\n",
            "                    0.00%     700ns         2     350ns     293ns     407ns  cudaPeekAtLastError\n",
            "                    0.00%     601ns         3     200ns     186ns     217ns  cuDriverGetVersion\n",
            "                    0.00%     499ns         1     499ns     499ns     499ns  cudaGetDeviceCount\n",
            "                    0.00%     345ns         1     345ns     345ns     345ns  cudaDriverGetVersion\n",
            "\n",
            "==36128== Unified Memory profiling result:\n",
            "Device \"Tesla T4 (0)\"\n",
            "   Count  Avg Size  Min Size  Max Size  Total Size  Total Time  Name\n",
            "       3  21.333KB  4.0000KB  52.000KB  64.00000KB  13.69500us  Host To Device\n",
            "       1         -         -         -           -  414.7750us  Gpu page fault groups\n",
            "Total CPU Page faults: 1\n"
          ]
        }
      ]
    }
  ]
}